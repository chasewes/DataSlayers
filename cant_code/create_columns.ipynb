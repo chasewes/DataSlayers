{
 "cells": [
  {
   "cell_type": "code",
   "execution_count": 2,
   "metadata": {},
   "outputs": [],
   "source": [
    "import pandas as pd\n",
    "import matplotlib.pyplot as plt\n",
    "import numpy as np\n",
    "import itertools\n",
    "from tqdm import tqdm\n",
    "\n",
    "import plotly\n",
    "# from chart_studio import plotly\n",
    "\n"
   ]
  },
  {
   "cell_type": "code",
   "execution_count": 10,
   "metadata": {},
   "outputs": [
    {
     "name": "stderr",
     "output_type": "stream",
     "text": [
      "/var/folders/kc/jdw9593x3ksdmnhyd571zm440000gp/T/ipykernel_21422/1281625065.py:1: DtypeWarning: Columns (2,5,6,8,10,11,14,15,16,17,18,19,20,21,23,24,25,27,28,32) have mixed types. Specify dtype option on import or set low_memory=False.\n",
      "  dataframe = pd.read_csv('big_data.csv')\n"
     ]
    }
   ],
   "source": [
    "dataframe = pd.read_csv('big_data.csv')"
   ]
  },
  {
   "cell_type": "code",
   "execution_count": 11,
   "metadata": {},
   "outputs": [],
   "source": [
    "#create columns that show if a person uses a product\n",
    "dataframe[\"uses_invest\"] = ~dataframe['INV_OPEN_DATE'].isna() \n",
    "dataframe[\"uses_money\"] = ~dataframe['MONEY_ACCOUNT_OPEN_DATE'].isna()\n",
    "dataframe[\"uses_relay\"] = ~dataframe['RELAY_ORIGINAL_DATE'].isna() \n",
    "dataframe[\"uses_loan\"] = ~dataframe['ORIGINATION_DATE'].isna()\n",
    "dataframe[\"uses_credit\"] = ~dataframe['ONBOARDING_SUCCESS_DATE'].isna()\n",
    "\n",
    "#create column that shows how many products a person uses\n",
    "dataframe[\"num_products\"] = (dataframe[['uses_invest', 'uses_money', 'uses_relay', 'uses_loan', 'uses_credit']] == True).sum(axis=1)\n",
    "\n",
    "# create a column that shows how long a person has used a product. If they have never used a product, it will be NaN\n",
    "\n",
    "dataframe['date_of_creating_new_columns'] = pd.to_datetime('today').date()\n",
    "\n",
    "dataframe['INV_OPEN_DATE'] = pd.to_datetime(dataframe['INV_OPEN_DATE']).dt.date\n",
    "dataframe['days_with_invest'] = (dataframe['date_of_creating_new_columns'] - dataframe['INV_OPEN_DATE']).dt.days\n",
    "\n",
    "dataframe['MONEY_ACCOUNT_OPEN_DATE'] = pd.to_datetime(dataframe['MONEY_ACCOUNT_OPEN_DATE']).dt.date\n",
    "dataframe['days_with_money'] = (dataframe['date_of_creating_new_columns'] - dataframe['MONEY_ACCOUNT_OPEN_DATE']).dt.days\n",
    "\n",
    "dataframe['RELAY_ORIGINAL_DATE'] = pd.to_datetime(dataframe['RELAY_ORIGINAL_DATE']).dt.date\n",
    "dataframe['days_with_relay'] = (dataframe['date_of_creating_new_columns'] - dataframe['RELAY_ORIGINAL_DATE']).dt.days\n",
    "\n",
    "dataframe['ORIGINATION_DATE'] = pd.to_datetime(dataframe['ORIGINATION_DATE']).dt.date\n",
    "dataframe['days_with_loan'] = (dataframe['date_of_creating_new_columns'] - dataframe['ORIGINATION_DATE']).dt.days\n",
    "\n",
    "dataframe['ONBOARDING_SUCCESS_DATE'] = pd.to_datetime(dataframe['ONBOARDING_SUCCESS_DATE']).dt.date\n",
    "dataframe['days_with_credit'] = (dataframe['date_of_creating_new_columns'] - dataframe['ONBOARDING_SUCCESS_DATE']).dt.days\n",
    "\n"
   ]
  },
  {
   "attachments": {},
   "cell_type": "markdown",
   "metadata": {},
   "source": [
    "### Columns for first and second product"
   ]
  },
  {
   "cell_type": "code",
   "execution_count": 13,
   "metadata": {},
   "outputs": [
    {
     "name": "stderr",
     "output_type": "stream",
     "text": [
      "100%|██████████| 3216851/3216851 [04:05<00:00, 13114.35it/s]\n"
     ]
    }
   ],
   "source": [
    "# create a column 'first_product' that shows the first product a person used, and a column 'second_product' that shows the second product a person used. If they have never used a second product, it will be NaN\n",
    "\n",
    "dataframe['first_product'] = np.nan\n",
    "dataframe['second_product'] = np.nan\n",
    "\n",
    "first_product_list = []\n",
    "second_product_list = []\n",
    "\n",
    "for i in tqdm(range(len(dataframe))):\n",
    "    #create a list of the products that the user has\n",
    "    products = []\n",
    "    if dataframe.loc[i, 'uses_relay'] == True:\n",
    "        products.append('relay')\n",
    "    if dataframe.loc[i, 'uses_money'] == True:\n",
    "        products.append('money')\n",
    "    if dataframe.loc[i, 'uses_invest'] == True:\n",
    "        products.append('invest')\n",
    "    if dataframe.loc[i, 'uses_loan'] == True:\n",
    "        products.append('loan')\n",
    "    if dataframe.loc[i, 'uses_credit'] == True:\n",
    "        products.append('credit')\n",
    "\n",
    "    \n",
    "\n",
    "    #sort the list of products by the number of days the user has used the product\n",
    "    products.sort(key=lambda x: dataframe.loc[i, f'days_with_{x}'], reverse=True)\n",
    "\n",
    "    #add the first two products to the list\n",
    "    if len(products) >= 1:\n",
    "        first_product_list.append(products[0])\n",
    "    else:\n",
    "        first_product_list.append(np.nan)\n",
    "    if len(products) >= 2:\n",
    "        second_product_list.append(products[1])\n",
    "    else:\n",
    "        second_product_list.append(np.nan)\n",
    "        \n",
    "\n",
    "dataframe['first_product'] = first_product_list\n",
    "dataframe['second_product'] = second_product_list\n",
    "\n",
    "\n",
    "\n",
    "\n",
    "    \n"
   ]
  },
  {
   "cell_type": "code",
   "execution_count": 16,
   "metadata": {},
   "outputs": [
    {
     "name": "stderr",
     "output_type": "stream",
     "text": [
      "100%|██████████| 3216851/3216851 [00:36<00:00, 88892.39it/s] \n"
     ]
    }
   ],
   "source": [
    "#create new columns, xbuy_days, xbuy_date, first_30\n",
    "\n",
    "# xbuy_days is the number of days between the first product a person used and the second product a person used\n",
    "# xbuy_date is the date of the second product a person used\n",
    "\n",
    "def calculate_xbuy_days(row):\n",
    "    #if the person has never used a second product, return NaN\n",
    "    if type(row['second_product']) == float:\n",
    "        return None\n",
    "\n",
    "    if row['first_product'] == 'relay':\n",
    "        first_product_date = row['RELAY_ORIGINAL_DATE']\n",
    "    elif row['first_product'] == 'money':\n",
    "        first_product_date = row['MONEY_ACCOUNT_OPEN_DATE']\n",
    "    elif row['first_product'] == 'invest':\n",
    "        first_product_date = row['INV_OPEN_DATE']\n",
    "    elif row['first_product'] == 'loan':\n",
    "        first_product_date = row['ORIGINATION_DATE']\n",
    "    elif row['first_product'] == 'credit':\n",
    "        first_product_date = row['ONBOARDING_SUCCESS_DATE']\n",
    "\n",
    "    if row['second_product'] == 'relay':\n",
    "        second_product_date = row['RELAY_ORIGINAL_DATE']\n",
    "    elif row['second_product'] == 'money':\n",
    "        second_product_date = row['MONEY_ACCOUNT_OPEN_DATE']\n",
    "    elif row['second_product'] == 'invest':\n",
    "        second_product_date = row['INV_OPEN_DATE']\n",
    "    elif row['second_product'] == 'loan':\n",
    "        second_product_date = row['ORIGINATION_DATE']\n",
    "    elif row['second_product'] == 'credit':\n",
    "        second_product_date = row['ONBOARDING_SUCCESS_DATE']\n",
    "\n",
    "    second_product_date = pd.to_datetime(second_product_date)\n",
    "    first_product_date = pd.to_datetime(first_product_date)\n",
    "\n",
    "    return (second_product_date - first_product_date).days\n",
    "\n",
    "\n",
    "def get_xbuy_date(row):\n",
    "    #gets the date the second product was adopted.\n",
    "    if type(row['second_product']) == float:\n",
    "        return None\n",
    "    \n",
    "    if row['second_product'] == 'relay':\n",
    "        return row['RELAY_ORIGINAL_DATE']\n",
    "    elif row['second_product'] == 'money':\n",
    "        return row['MONEY_ACCOUNT_OPEN_DATE']\n",
    "    elif row['second_product'] == 'invest':\n",
    "        return row['INV_OPEN_DATE']\n",
    "    elif row['second_product'] == 'loan':\n",
    "        return row['ORIGINATION_DATE']\n",
    "    elif row['second_product'] == 'credit':\n",
    "        return row['ONBOARDING_SUCCESS_DATE']\n",
    "\n",
    "    \n",
    "tqdm.pandas()\n",
    "dataframe['xbuy_days'] = dataframe.progress_apply(calculate_xbuy_days, axis=1)\n",
    "dataframe['xbuy_date'] = dataframe.progress_apply(get_xbuy_date, axis=1)"
   ]
  },
  {
   "cell_type": "code",
   "execution_count": 14,
   "metadata": {},
   "outputs": [],
   "source": [
    "#save the dataframe\n",
    "dataframe.to_csv('big_data_added_columns.csv', index=False)"
   ]
  },
  {
   "cell_type": "code",
   "execution_count": 17,
   "metadata": {},
   "outputs": [
    {
     "data": {
      "text/plain": [
       "False    2703952\n",
       "True      512899\n",
       "Name: uses_loan, dtype: int64"
      ]
     },
     "execution_count": 17,
     "metadata": {},
     "output_type": "execute_result"
    }
   ],
   "source": [
    "#show how many users use personal loans\n",
    "dataframe['uses_loan'].value_counts()\n"
   ]
  },
  {
   "cell_type": "code",
   "execution_count": null,
   "metadata": {},
   "outputs": [],
   "source": []
  }
 ],
 "metadata": {
  "kernelspec": {
   "display_name": "Python 3",
   "language": "python",
   "name": "python3"
  },
  "language_info": {
   "codemirror_mode": {
    "name": "ipython",
    "version": 3
   },
   "file_extension": ".py",
   "mimetype": "text/x-python",
   "name": "python",
   "nbconvert_exporter": "python",
   "pygments_lexer": "ipython3",
   "version": "3.9.6"
  },
  "orig_nbformat": 4,
  "vscode": {
   "interpreter": {
    "hash": "aee8b7b246df8f9039afb4144a1f6fd8d2ca17a180786b69acc140d282b71a49"
   }
  }
 },
 "nbformat": 4,
 "nbformat_minor": 2
}
