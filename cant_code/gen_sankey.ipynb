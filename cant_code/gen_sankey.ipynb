{
 "cells": [
  {
   "cell_type": "code",
   "execution_count": null,
   "metadata": {},
   "outputs": [],
   "source": [
    "import sklearn as sk\n",
    "import pandas as pd\n",
    "import numpy as np\n",
    "from sklearn.utils import resample\n",
    "from sklearn.model_selection import train_test_split\n",
    "\n"
   ]
  },
  {
   "cell_type": "code",
   "execution_count": null,
   "metadata": {},
   "outputs": [],
   "source": [
    "dataframe = pd.read_csv('big_data_added_columns.csv')"
   ]
  },
  {
   "cell_type": "code",
   "execution_count": null,
   "metadata": {},
   "outputs": [],
   "source": [
    "def convert_tuple_to_string(tup):\n",
    "    str = ''\n",
    "    for item in range(len(tup)):\n",
    "        str = str + tup[item]\n",
    "        if item < len(tup) - 1:\n",
    "            str = str + '_'\n",
    "    return str\n",
    "    \n"
   ]
  },
  {
   "cell_type": "code",
   "execution_count": null,
   "metadata": {},
   "outputs": [],
   "source": [
    "products = ['relay', 'money', 'invest', 'loan', 'credit']\n",
    "\n",
    "#permute the products\n",
    "product_permutations_5 = list(itertools.permutations(products, 5))\n",
    "product_permutations_4 = list(itertools.permutations(products, 4))\n",
    "product_permutations_3 = list(itertools.permutations(products, 3))\n",
    "product_permutations_2 = list(itertools.permutations(products, 2))\n",
    "product_permutations_1 = list(itertools.permutations(products, 1))\n",
    "\n",
    "product_permutations = product_permutations_5 + product_permutations_4 + product_permutations_3 + product_permutations_2 + product_permutations_1\n",
    "\n",
    "#create a dataframe that will have 5 columns: lvl1, lvl2, lvl3, lvl4, and count\n",
    "product_permutations_df = pd.DataFrame(columns=['lvl1', 'lvl2', 'lvl3', 'lvl4', 'lvl5', 'count'])\n",
    "#fill the dataframe with the product permutations\n",
    "for i in range(len(product_permutations)):\n",
    "    for j in range(len(product_permutations[i])):\n",
    "        product_permutations_df.loc[i, f'lvl{j+1}'] = convert_tuple_to_string(product_permutations[i][:j+1])\n",
    "\n",
    "product_permutations_df['count'] = 0\n",
    "\n",
    "product_permutations_df"
   ]
  },
  {
   "cell_type": "code",
   "execution_count": null,
   "metadata": {},
   "outputs": [],
   "source": [
    "#last populated column is the value held in the last column that has a value in it, with the options being lvl1, lvl2, lvl3, and lvl4\n",
    "# product_permutations_df['last_populated_column'] = product_permutations_df['lvl4'].fillna(product_permutations_df['lvl3'].fillna(product_permutations_df['lvl2'].fillna(product_permutations_df['lvl1'])))\n",
    "product_permutations_df['last_populated_column'] = product_permutations_df['lvl5'].fillna(product_permutations_df['lvl4'].fillna(product_permutations_df['lvl3'].fillna(product_permutations_df['lvl2'].fillna(product_permutations_df['lvl1']))))\n",
    "last_populated_columns_dict = product_permutations_df.set_index('last_populated_column')['count'].to_dict()"
   ]
  },
  {
   "cell_type": "code",
   "execution_count": null,
   "metadata": {},
   "outputs": [],
   "source": [
    "#go through the dataframe and create the product permutations for each person\n",
    "# the permutation is the order in which they used the products\n",
    "# for example, a user with data like this:\n",
    "# days_with_relay: 100\n",
    "# days_with_money: NaN\n",
    "# days_with_invest: 300\n",
    "# days_with_loan: NaN\n",
    "# would have a permutation of 'invest_relay' because they used invest first and then relay\n",
    "\n",
    "for i in tqdm(range(len(dataframe))):\n",
    "    #create a list of the products that the user has\n",
    "    products = []\n",
    "    if dataframe.loc[i, 'uses_relay'] == True:\n",
    "        products.append('relay')\n",
    "    if dataframe.loc[i, 'uses_money'] == True:\n",
    "        products.append('money')\n",
    "    if dataframe.loc[i, 'uses_invest'] == True:\n",
    "        products.append('invest')\n",
    "    if dataframe.loc[i, 'uses_loan'] == True:\n",
    "        products.append('loan')\n",
    "    if dataframe.loc[i, 'uses_credit'] == True:\n",
    "        products.append('credit')\n",
    "        \n",
    "    #sort the list of products by the number of days the user has used the product\n",
    "    products.sort(key=lambda x: dataframe.loc[i, f'days_with_{x}'], reverse=True)\n",
    "    #show the row, then show the products\n",
    "\n",
    "    #convert the list of products to a string\n",
    "    product_permutation = convert_tuple_to_string(tuple(products))\n",
    "    #increment the count of the product permutation\n",
    "    if len(products) > 0: \n",
    "        last_populated_columns_dict[product_permutation] += 1\n"
   ]
  },
  {
   "cell_type": "code",
   "execution_count": null,
   "metadata": {},
   "outputs": [],
   "source": [
    "#populate the dataframe with the counts\n",
    "for i in range(len(product_permutations_df)):\n",
    "    product_permutations_df.loc[i, 'count'] = last_populated_columns_dict[product_permutations_df.loc[i, 'last_populated_column']]\n",
    "\n",
    "#drop the last_populated_column column\n",
    "product_permutations_df = product_permutations_df.drop(columns=['last_populated_column'])\n"
   ]
  },
  {
   "cell_type": "code",
   "execution_count": null,
   "metadata": {},
   "outputs": [],
   "source": [
    "product_permutations_df['lvl0'] = 'all'\n",
    "#reindex the dataframe so the columns are in the correct order\n",
    "product_permutations_df = product_permutations_df.reindex(columns=['lvl0', 'lvl1', 'lvl2', 'lvl3', 'lvl4', 'count'])"
   ]
  },
  {
   "cell_type": "code",
   "execution_count": null,
   "metadata": {},
   "outputs": [],
   "source": [
    "#save product_permutations_df to a csv file\n",
    "product_permutations_df.to_csv('product_permutations.csv')\n"
   ]
  },
  {
   "cell_type": "code",
   "execution_count": null,
   "metadata": {},
   "outputs": [],
   "source": [
    "def genSankey(df,cat_cols=[],value_cols='',title='Sankey Diagram'):\n",
    "    # maximum of 6 value cols -> 6 colors\n",
    "    colorPalette = ['#4B8BBE','#306998','#FFE873','#FFD43B','#646464']\n",
    "    labelList = []\n",
    "    colorNumList = []\n",
    "    for catCol in cat_cols:\n",
    "        labelListTemp =  list(set(df[catCol].values))\n",
    "        colorNumList.append(len(labelListTemp))\n",
    "        labelList = labelList + labelListTemp\n",
    "        \n",
    "    # remove duplicates from labelList\n",
    "    labelList = list(dict.fromkeys(labelList))\n",
    "    \n",
    "    # define colors based on number of levels\n",
    "    colorList = []\n",
    "    for idx, colorNum in enumerate(colorNumList):\n",
    "        colorList = colorList + [colorPalette[idx]]*colorNum\n",
    "        \n",
    "    # transform df into a source-target pair\n",
    "    for i in range(len(cat_cols)-1):\n",
    "        if i==0:\n",
    "            sourceTargetDf = df[[cat_cols[i],cat_cols[i+1],value_cols]]\n",
    "            sourceTargetDf.columns = ['source','target','count']\n",
    "        else:\n",
    "            tempDf = df[[cat_cols[i],cat_cols[i+1],value_cols]]\n",
    "            tempDf.columns = ['source','target','count']\n",
    "            sourceTargetDf = pd.concat([sourceTargetDf,tempDf])\n",
    "        sourceTargetDf = sourceTargetDf.groupby(['source','target']).agg({'count':'sum'}).reset_index()\n",
    "        \n",
    "    # add index for source-target pair\n",
    "    sourceTargetDf['sourceID'] = sourceTargetDf['source'].apply(lambda x: labelList.index(x))\n",
    "    sourceTargetDf['targetID'] = sourceTargetDf['target'].apply(lambda x: labelList.index(x))\n",
    "    \n",
    "    # creating the sankey diagram\n",
    "    data = dict(\n",
    "        type='sankey',\n",
    "        node = dict(\n",
    "          pad = 15,\n",
    "          thickness = 20,\n",
    "          line = dict(\n",
    "            color = \"black\",\n",
    "            width = 0.5\n",
    "          ),\n",
    "          label = labelList,\n",
    "          color = colorList\n",
    "        ),\n",
    "        link = dict(\n",
    "          source = sourceTargetDf['sourceID'],\n",
    "          target = sourceTargetDf['targetID'],\n",
    "          value = sourceTargetDf['count']\n",
    "        )\n",
    "      )\n",
    "    \n",
    "    layout =  dict(\n",
    "        title = title,\n",
    "        font = dict(\n",
    "          size = 10\n",
    "        )\n",
    "    )\n",
    "       \n",
    "    fig = dict(data=[data], layout=layout)\n",
    "    return fig"
   ]
  },
  {
   "cell_type": "code",
   "execution_count": null,
   "metadata": {},
   "outputs": [],
   "source": [
    "fig = genSankey(product_permutations_df,cat_cols=['lvl0','lvl1','lvl2','lvl3'],value_cols='count',title='xbuy visualized')\n",
    "plotly.offline.plot(fig, validate=False)"
   ]
  }
 ],
 "metadata": {
  "language_info": {
   "name": "python"
  },
  "orig_nbformat": 4
 },
 "nbformat": 4,
 "nbformat_minor": 2
}
